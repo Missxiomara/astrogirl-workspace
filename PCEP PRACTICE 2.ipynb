{
 "cells": [
  {
   "cell_type": "code",
   "execution_count": 3,
   "id": "7f27d8aa",
   "metadata": {},
   "outputs": [
    {
     "ename": "IndentationError",
     "evalue": "expected an indented block (2633134834.py, line 5)",
     "output_type": "error",
     "traceback": [
      "\u001b[0;36m  File \u001b[0;32m\"/var/folders/wm/72p8tr111_v8wfdn26fw4cj00000gn/T/ipykernel_1726/2633134834.py\"\u001b[0;36m, line \u001b[0;32m5\u001b[0m\n\u001b[0;31m    if year%100==0:\u001b[0m\n\u001b[0m    ^\u001b[0m\n\u001b[0;31mIndentationError\u001b[0m\u001b[0;31m:\u001b[0m expected an indented block\n"
     ]
    }
   ],
   "source": [
    "def is_year_leap(year):\n",
    "    is_leap=False\n",
    "    if year%4==0:\n",
    "    \n",
    "    if year%100==0:\n",
    "    \n",
    "    if year%400==0:\n",
    "    \n",
    "    is_leap=True\n",
    "    \n",
    "    else:\n",
    "        is_leap=False\n",
    "    else:\n",
    "        is_leap=True\n",
    "    else:\n",
    "        is_leap=False\n",
    "        \n",
    "        return is_leap\n",
    "    "
   ]
  },
  {
   "cell_type": "code",
   "execution_count": 9,
   "id": "0b7379bd",
   "metadata": {},
   "outputs": [],
   "source": [
    "def is_year_leap(year):\n",
    "    is_leap=False\n",
    "    if year%4==0:\n",
    "        if year%100==0:\n",
    "            if year%400==0:\n",
    "                is_leap=True\n",
    "        else:\n",
    "            is_leap=True\n",
    "    return is_leap             "
   ]
  },
  {
   "cell_type": "code",
   "execution_count": 12,
   "id": "377092fd",
   "metadata": {},
   "outputs": [
    {
     "name": "stdout",
     "output_type": "stream",
     "text": [
      "True\n",
      "False\n"
     ]
    }
   ],
   "source": [
    "print(is_year_leap(2016))\n",
    "print(is_year_leap(1999))"
   ]
  },
  {
   "cell_type": "code",
   "execution_count": null,
   "id": "fe609a39",
   "metadata": {},
   "outputs": [],
   "source": [
    "def test_is_year_leap():\n",
    "    assert is_year_leap(2000)\n",
    "    #this test should confirm that our function returns true for the year 2000.\n",
    "    assert not is_year_leap(1999)"
   ]
  },
  {
   "cell_type": "code",
   "execution_count": null,
   "id": "a14ba279",
   "metadata": {},
   "outputs": [],
   "source": []
  },
  {
   "cell_type": "code",
   "execution_count": null,
   "id": "251ef566",
   "metadata": {},
   "outputs": [],
   "source": []
  },
  {
   "cell_type": "code",
   "execution_count": null,
   "id": "2e887662",
   "metadata": {},
   "outputs": [],
   "source": []
  }
 ],
 "metadata": {
  "kernelspec": {
   "display_name": "Python 3 (ipykernel)",
   "language": "python",
   "name": "python3"
  },
  "language_info": {
   "codemirror_mode": {
    "name": "ipython",
    "version": 3
   },
   "file_extension": ".py",
   "mimetype": "text/x-python",
   "name": "python",
   "nbconvert_exporter": "python",
   "pygments_lexer": "ipython3",
   "version": "3.8.9"
  }
 },
 "nbformat": 4,
 "nbformat_minor": 5
}
